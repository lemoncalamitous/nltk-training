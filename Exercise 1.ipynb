{
  "nbformat": 4,
  "nbformat_minor": 0,
  "metadata": {
    "colab": {
      "name": "Exercise 1.ipynb",
      "version": "0.3.2",
      "provenance": [],
      "collapsed_sections": []
    },
    "kernelspec": {
      "name": "python3",
      "display_name": "Python 3"
    }
  },
  "cells": [
    {
      "metadata": {
        "id": "xNFxNeUGkB-p",
        "colab_type": "code",
        "colab": {}
      },
      "cell_type": "code",
      "source": [
        "import numpy as np"
      ],
      "execution_count": 0,
      "outputs": []
    },
    {
      "metadata": {
        "id": "_vc2Q-gakFcp",
        "colab_type": "code",
        "colab": {}
      },
      "cell_type": "code",
      "source": [
        "A = np.array([[22, 5, 16, 9], [13, 20, 19, 0], [5, 9, 1, 16], [27, 13, 15, 19]])\n",
        "B = np.array([[10, 5, 20, 20], [5, 21, 22, 27], [26, 19, 22, 3], [27, 8, 18, 7]])\n",
        "c = np.array([24, 3, 17, 7, 11, 2, 21, 2, 24, 18, 3, 11, 14, 25, 2, 20])\n",
        "d = np.array([3, 15, 24, 22, 19, 24, 4, 29, 6, 3, 20, 1, 11, 25, 26, 6])"
      ],
      "execution_count": 0,
      "outputs": []
    },
    {
      "metadata": {
        "id": "4q9RchEEk5Vz",
        "colab_type": "code",
        "colab": {
          "base_uri": "https://localhost:8080/",
          "height": 85
        },
        "outputId": "4cd49c7b-c709-496e-b46f-80c4b8cd251d"
      },
      "cell_type": "code",
      "source": [
        "# Element-wise addition\n",
        "number1 = A + B\n",
        "print(number1)"
      ],
      "execution_count": 48,
      "outputs": [
        {
          "output_type": "stream",
          "text": [
            "[[32 10 36 29]\n",
            " [18 41 41 27]\n",
            " [31 28 23 19]\n",
            " [54 21 33 26]]\n"
          ],
          "name": "stdout"
        }
      ]
    },
    {
      "metadata": {
        "id": "EmUUTu-MlOKi",
        "colab_type": "code",
        "colab": {
          "base_uri": "https://localhost:8080/",
          "height": 85
        },
        "outputId": "fa3f006e-727e-466a-cadd-f2fd8f954dda"
      },
      "cell_type": "code",
      "source": [
        "# Element-wise subtraction\n",
        "number2 = A - B\n",
        "print(number2)"
      ],
      "execution_count": 49,
      "outputs": [
        {
          "output_type": "stream",
          "text": [
            "[[ 12   0  -4 -11]\n",
            " [  8  -1  -3 -27]\n",
            " [-21 -10 -21  13]\n",
            " [  0   5  -3  12]]\n"
          ],
          "name": "stdout"
        }
      ]
    },
    {
      "metadata": {
        "id": "grAe9pPglULt",
        "colab_type": "code",
        "colab": {
          "base_uri": "https://localhost:8080/",
          "height": 85
        },
        "outputId": "45709aef-1d2d-4c6f-be13-38522055bf7f"
      },
      "cell_type": "code",
      "source": [
        "# Element-wise multiplication\n",
        "number3 = A * B\n",
        "print(number3)"
      ],
      "execution_count": 50,
      "outputs": [
        {
          "output_type": "stream",
          "text": [
            "[[220  25 320 180]\n",
            " [ 65 420 418   0]\n",
            " [130 171  22  48]\n",
            " [729 104 270 133]]\n"
          ],
          "name": "stdout"
        }
      ]
    },
    {
      "metadata": {
        "id": "B5hlFGMZlcah",
        "colab_type": "code",
        "colab": {
          "base_uri": "https://localhost:8080/",
          "height": 85
        },
        "outputId": "be233a42-f073-47f1-ad7d-271911db4e03"
      },
      "cell_type": "code",
      "source": [
        "# Matrix multiplication\n",
        "number4 = np.dot(A, B)\n",
        "print(number4)"
      ],
      "execution_count": 51,
      "outputs": [
        {
          "output_type": "stream",
          "text": [
            "[[ 904  591 1064  686]\n",
            " [ 724  846 1118  857]\n",
            " [ 553  361  608  458]\n",
            " [1238  845 1498 1069]]\n"
          ],
          "name": "stdout"
        }
      ]
    },
    {
      "metadata": {
        "id": "3Ez3Gj3qlyP5",
        "colab_type": "code",
        "colab": {
          "base_uri": "https://localhost:8080/",
          "height": 34
        },
        "outputId": "de06cb7a-4e86-458f-82bc-c64d302611a5"
      },
      "cell_type": "code",
      "source": [
        "# c + d\n",
        "number5 = c + d\n",
        "print(number5)"
      ],
      "execution_count": 52,
      "outputs": [
        {
          "output_type": "stream",
          "text": [
            "[27 18 41 29 30 26 25 31 30 21 23 12 25 50 28 26]\n"
          ],
          "name": "stdout"
        }
      ]
    },
    {
      "metadata": {
        "id": "vOFOHPegmWYk",
        "colab_type": "code",
        "colab": {
          "base_uri": "https://localhost:8080/",
          "height": 34
        },
        "outputId": "e8c0ec7a-8ef4-4f36-be8f-bad963f692fe"
      },
      "cell_type": "code",
      "source": [
        "# c - d\n",
        "number6 = c - d\n",
        "print(number6)"
      ],
      "execution_count": 53,
      "outputs": [
        {
          "output_type": "stream",
          "text": [
            "[ 21 -12  -7 -15  -8 -22  17 -27  18  15 -17  10   3   0 -24  14]\n"
          ],
          "name": "stdout"
        }
      ]
    },
    {
      "metadata": {
        "id": "ne70Y8m_mcUP",
        "colab_type": "code",
        "colab": {
          "base_uri": "https://localhost:8080/",
          "height": 34
        },
        "outputId": "a52abdcc-17a2-4e68-a4a7-86add4f2dc07"
      },
      "cell_type": "code",
      "source": [
        "# c * d\n",
        "number7 = c * d\n",
        "print(number7)"
      ],
      "execution_count": 54,
      "outputs": [
        {
          "output_type": "stream",
          "text": [
            "[ 72  45 408 154 209  48  84  58 144  54  60  11 154 625  52 120]\n"
          ],
          "name": "stdout"
        }
      ]
    },
    {
      "metadata": {
        "id": "ma2Hg9yumhaU",
        "colab_type": "code",
        "colab": {
          "base_uri": "https://localhost:8080/",
          "height": 34
        },
        "outputId": "12121a94-30fb-4e21-c0cf-4894308ed4d3"
      },
      "cell_type": "code",
      "source": [
        "# c x d\n",
        "number8 = np.dot(C, D)\n",
        "print(number8)"
      ],
      "execution_count": 55,
      "outputs": [
        {
          "output_type": "stream",
          "text": [
            "2298\n"
          ],
          "name": "stdout"
        }
      ]
    },
    {
      "metadata": {
        "id": "xhpvt681moCt",
        "colab_type": "code",
        "colab": {
          "base_uri": "https://localhost:8080/",
          "height": 85
        },
        "outputId": "3b59aa39-c5a8-4acc-a7f4-b4159aa518b4"
      },
      "cell_type": "code",
      "source": [
        "# A + 10\n",
        "number9 = A + 10\n",
        "print(number9)"
      ],
      "execution_count": 56,
      "outputs": [
        {
          "output_type": "stream",
          "text": [
            "[[32 15 26 19]\n",
            " [23 30 29 10]\n",
            " [15 19 11 26]\n",
            " [37 23 25 29]]\n"
          ],
          "name": "stdout"
        }
      ]
    },
    {
      "metadata": {
        "id": "0ksjsQWCnPMC",
        "colab_type": "code",
        "colab": {
          "base_uri": "https://localhost:8080/",
          "height": 85
        },
        "outputId": "4cc33429-a5d4-49a9-904d-e0a61fed36b5"
      },
      "cell_type": "code",
      "source": [
        "# B + 10\n",
        "number10 = B + 10\n",
        "print(number10)"
      ],
      "execution_count": 57,
      "outputs": [
        {
          "output_type": "stream",
          "text": [
            "[[20 15 30 30]\n",
            " [15 31 32 37]\n",
            " [36 29 32 13]\n",
            " [37 18 28 17]]\n"
          ],
          "name": "stdout"
        }
      ]
    },
    {
      "metadata": {
        "id": "Xgf60_QjnTZw",
        "colab_type": "code",
        "colab": {
          "base_uri": "https://localhost:8080/",
          "height": 34
        },
        "outputId": "7613aac6-42d9-4834-90f4-a72385b09306"
      },
      "cell_type": "code",
      "source": [
        "# c + 15\n",
        "number11 = c + 15\n",
        "print(number11)"
      ],
      "execution_count": 58,
      "outputs": [
        {
          "output_type": "stream",
          "text": [
            "[39 18 32 22 26 17 36 17 39 33 18 26 29 40 17 35]\n"
          ],
          "name": "stdout"
        }
      ]
    },
    {
      "metadata": {
        "id": "nLZYzMyEnZRY",
        "colab_type": "code",
        "colab": {
          "base_uri": "https://localhost:8080/",
          "height": 34
        },
        "outputId": "fa6eb896-f04f-4d50-edde-8191374b4327"
      },
      "cell_type": "code",
      "source": [
        "# d + 15\n",
        "number12 = d + 15\n",
        "print(number12)"
      ],
      "execution_count": 63,
      "outputs": [
        {
          "output_type": "stream",
          "text": [
            "[18 30 39 37 34 39 19 44 21 18 35 16 26 40 41 21]\n"
          ],
          "name": "stdout"
        }
      ]
    },
    {
      "metadata": {
        "id": "FzAT1pmopH_n",
        "colab_type": "code",
        "colab": {
          "base_uri": "https://localhost:8080/",
          "height": 85
        },
        "outputId": "ff142826-5d2a-4400-8c96-1f528bdbb3b9"
      },
      "cell_type": "code",
      "source": [
        "# (2 * A) + (2 * B)\n",
        "number13 = (2 * A) + (2 * B)\n",
        "print(number13)"
      ],
      "execution_count": 64,
      "outputs": [
        {
          "output_type": "stream",
          "text": [
            "[[ 64  20  72  58]\n",
            " [ 36  82  82  54]\n",
            " [ 62  56  46  38]\n",
            " [108  42  66  52]]\n"
          ],
          "name": "stdout"
        }
      ]
    },
    {
      "metadata": {
        "id": "QPeGK4HXpaeY",
        "colab_type": "code",
        "colab": {
          "base_uri": "https://localhost:8080/",
          "height": 85
        },
        "outputId": "e1f96a63-4552-4d9c-da11-e23d1fc5187e"
      },
      "cell_type": "code",
      "source": [
        "# (A + B) * 3\n",
        "number14 = (A + B) * 3\n",
        "print(number14)"
      ],
      "execution_count": 65,
      "outputs": [
        {
          "output_type": "stream",
          "text": [
            "[[ 96  30 108  87]\n",
            " [ 54 123 123  81]\n",
            " [ 93  84  69  57]\n",
            " [162  63  99  78]]\n"
          ],
          "name": "stdout"
        }
      ]
    },
    {
      "metadata": {
        "id": "WF1rv-WhppmN",
        "colab_type": "code",
        "colab": {
          "base_uri": "https://localhost:8080/",
          "height": 85
        },
        "outputId": "3eda3626-2721-406c-eb15-1599663be3c3"
      },
      "cell_type": "code",
      "source": [
        "# (A - B + A - B + B) * 4\n",
        "number15 = (A - B + A - B + B) * 4\n",
        "print(number15)"
      ],
      "execution_count": 66,
      "outputs": [
        {
          "output_type": "stream",
          "text": [
            "[[ 136   20   48   -8]\n",
            " [  84   76   64 -108]\n",
            " [ -64   -4  -80  116]\n",
            " [ 108   72   48  124]]\n"
          ],
          "name": "stdout"
        }
      ]
    },
    {
      "metadata": {
        "id": "pdzgCl3dpwDX",
        "colab_type": "code",
        "colab": {}
      },
      "cell_type": "code",
      "source": [
        ""
      ],
      "execution_count": 0,
      "outputs": []
    }
  ]
}