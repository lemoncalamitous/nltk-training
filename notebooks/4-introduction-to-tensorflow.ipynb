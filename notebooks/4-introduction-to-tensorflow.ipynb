{
  "nbformat": 4,
  "nbformat_minor": 0,
  "metadata": {
    "colab": {
      "name": "4-introduction-to-tensorflow.ipynb",
      "version": "0.3.2",
      "provenance": [],
      "collapsed_sections": []
    },
    "kernelspec": {
      "name": "python3",
      "display_name": "Python 3"
    }
  },
  "cells": [
    {
      "metadata": {
        "id": "K468WVf21AWl",
        "colab_type": "code",
        "colab": {}
      },
      "cell_type": "code",
      "source": [
        "import tensorflow as tf"
      ],
      "execution_count": 0,
      "outputs": []
    },
    {
      "metadata": {
        "id": "iYi6lJ1x1IPL",
        "colab_type": "code",
        "colab": {}
      },
      "cell_type": "code",
      "source": [
        "# Placeholder for input\n",
        "x = tf.placeholder(dtype=tf.float32)"
      ],
      "execution_count": 0,
      "outputs": []
    },
    {
      "metadata": {
        "id": "pxXkDPrW1YF3",
        "colab_type": "code",
        "colab": {}
      },
      "cell_type": "code",
      "source": [
        "# define the computational graph\n",
        "y = tf.pow((2 * x), 2) + (2 * x) + 1"
      ],
      "execution_count": 0,
      "outputs": []
    },
    {
      "metadata": {
        "id": "dtjTlLPB1lR1",
        "colab_type": "code",
        "colab": {}
      },
      "cell_type": "code",
      "source": [
        "# Initialize the variables\n",
        "init_op = tf.global_variables_initializer()"
      ],
      "execution_count": 0,
      "outputs": []
    },
    {
      "metadata": {
        "id": "0jLOAcQm1xJt",
        "colab_type": "code",
        "colab": {}
      },
      "cell_type": "code",
      "source": [
        "# Create a session\n",
        "sess = tf.Session()"
      ],
      "execution_count": 0,
      "outputs": []
    },
    {
      "metadata": {
        "id": "YpSUvSC61y8C",
        "colab_type": "code",
        "colab": {}
      },
      "cell_type": "code",
      "source": [
        "sess.run(init_op)"
      ],
      "execution_count": 0,
      "outputs": []
    },
    {
      "metadata": {
        "id": "0HhjNDJm11UT",
        "colab_type": "code",
        "colab": {}
      },
      "cell_type": "code",
      "source": [
        "# Run the computational graph with input 10 to x\n",
        "value = sess.run(y, feed_dict={x: 10})"
      ],
      "execution_count": 0,
      "outputs": []
    },
    {
      "metadata": {
        "id": "YS5rvAlM15kt",
        "colab_type": "code",
        "colab": {
          "base_uri": "https://localhost:8080/",
          "height": 34
        },
        "outputId": "fb0f72cc-7a0a-41f2-e045-53dbafda4927"
      },
      "cell_type": "code",
      "source": [
        "print(value)"
      ],
      "execution_count": 64,
      "outputs": [
        {
          "output_type": "stream",
          "text": [
            "421.0\n"
          ],
          "name": "stdout"
        }
      ]
    },
    {
      "metadata": {
        "id": "-4w9o__N26-6",
        "colab_type": "code",
        "colab": {}
      },
      "cell_type": "code",
      "source": [
        "# Create random variable\n",
        "weights = tf.Variable(tf.random_normal(shape=[10]))"
      ],
      "execution_count": 0,
      "outputs": []
    },
    {
      "metadata": {
        "id": "L6ojbtvE3T7I",
        "colab_type": "code",
        "colab": {}
      },
      "cell_type": "code",
      "source": [
        "sess.run(tf.global_variables_initializer())"
      ],
      "execution_count": 0,
      "outputs": []
    },
    {
      "metadata": {
        "id": "RtACws0l3Cl3",
        "colab_type": "code",
        "colab": {
          "base_uri": "https://localhost:8080/",
          "height": 68
        },
        "outputId": "5d5b7f0a-f572-47cc-de76-24d9eb6da427"
      },
      "cell_type": "code",
      "source": [
        "sess.run(weights)"
      ],
      "execution_count": 67,
      "outputs": [
        {
          "output_type": "execute_result",
          "data": {
            "text/plain": [
              "array([ 0.6184237 ,  1.0100913 ,  0.5097682 ,  0.58428437,  0.5947659 ,\n",
              "        0.00651198,  0.01519237, -0.10736147,  0.16066332,  0.28417793],\n",
              "      dtype=float32)"
            ]
          },
          "metadata": {
            "tags": []
          },
          "execution_count": 67
        }
      ]
    },
    {
      "metadata": {
        "id": "8RqIle823SLy",
        "colab_type": "code",
        "colab": {}
      },
      "cell_type": "code",
      "source": [
        "from sklearn.datasets import load_iris\n",
        "import numpy as np"
      ],
      "execution_count": 0,
      "outputs": []
    },
    {
      "metadata": {
        "id": "soVpB5MD4Uwa",
        "colab_type": "code",
        "colab": {
          "base_uri": "https://localhost:8080/",
          "height": 187
        },
        "outputId": "f0277ce5-8b5b-4bfe-810a-15df85060f7c"
      },
      "cell_type": "code",
      "source": [
        "x = load_iris().data\n",
        "y = load_iris().target\n",
        "\n",
        "x[:10], y[:10]"
      ],
      "execution_count": 69,
      "outputs": [
        {
          "output_type": "execute_result",
          "data": {
            "text/plain": [
              "(array([[5.1, 3.5, 1.4, 0.2],\n",
              "        [4.9, 3. , 1.4, 0.2],\n",
              "        [4.7, 3.2, 1.3, 0.2],\n",
              "        [4.6, 3.1, 1.5, 0.2],\n",
              "        [5. , 3.6, 1.4, 0.2],\n",
              "        [5.4, 3.9, 1.7, 0.4],\n",
              "        [4.6, 3.4, 1.4, 0.3],\n",
              "        [5. , 3.4, 1.5, 0.2],\n",
              "        [4.4, 2.9, 1.4, 0.2],\n",
              "        [4.9, 3.1, 1.5, 0.1]]), array([0, 0, 0, 0, 0, 0, 0, 0, 0, 0]))"
            ]
          },
          "metadata": {
            "tags": []
          },
          "execution_count": 69
        }
      ]
    },
    {
      "metadata": {
        "id": "lHo1l_PW4j4f",
        "colab_type": "code",
        "colab": {
          "base_uri": "https://localhost:8080/",
          "height": 34
        },
        "outputId": "dfa3979e-1c0d-4cf5-8e3f-c906473f3f59"
      },
      "cell_type": "code",
      "source": [
        "np.unique(y)"
      ],
      "execution_count": 70,
      "outputs": [
        {
          "output_type": "execute_result",
          "data": {
            "text/plain": [
              "array([0, 1, 2])"
            ]
          },
          "metadata": {
            "tags": []
          },
          "execution_count": 70
        }
      ]
    },
    {
      "metadata": {
        "id": "avZXv0Kp4vVy",
        "colab_type": "code",
        "colab": {}
      },
      "cell_type": "code",
      "source": [
        "# [batch_size, 4]\n",
        "input_features = tf.placeholder(dtype=tf.float32, shape=[None, x.shape[1]])\n",
        "\n",
        "# [batch_size, 3]\n",
        "input_labels = tf.placeholder(dtype=tf.float32, shape=[None, 3])\n",
        "\n",
        "# [4, 3]\n",
        "weights = tf.Variable(tf.random_normal(shape=[x.shape[1], 3]))\n",
        "\n",
        "# [3]\n",
        "biases = tf.Variable(tf.random_normal(shape=[3]))\n",
        "\n",
        "# [batch_size] x [4, 3] = [batch_size, 3]\n",
        "# [batch_size, 3] + 3 = [batch_size, 3]\n",
        "linear_model = tf.add(tf.matmul(input_features, weights), biases)\n",
        "\n",
        "# average (w * x + b - y)**2\n",
        "loss = tf.reduce_mean(tf.square(linear_model - input_labels))\n",
        "\n",
        "train_op = tf.train.GradientDescentOptimizer(learning_rate=0.001).minimize(loss)"
      ],
      "execution_count": 0,
      "outputs": []
    },
    {
      "metadata": {
        "id": "VW-MB-Ww5TGB",
        "colab_type": "code",
        "colab": {}
      },
      "cell_type": "code",
      "source": [
        "sess = tf.Session()"
      ],
      "execution_count": 0,
      "outputs": []
    },
    {
      "metadata": {
        "id": "1z2aOHOT8WsU",
        "colab_type": "code",
        "colab": {}
      },
      "cell_type": "code",
      "source": [
        "sess.run(tf.global_variables_initializer())"
      ],
      "execution_count": 0,
      "outputs": []
    },
    {
      "metadata": {
        "id": "NrNkUmBu8dRc",
        "colab_type": "code",
        "colab": {}
      },
      "cell_type": "code",
      "source": [
        "def next_batch(batch_size, features, labels):\n",
        "    indices = np.arange(start=0, stop=features.shape[0])\n",
        "    np.random.shuffle(indices)\n",
        "    indices = indices[:batch_size]\n",
        "    \n",
        "    return features[indices], labels[indices]"
      ],
      "execution_count": 0,
      "outputs": []
    },
    {
      "metadata": {
        "id": "iAxJwLFN83s0",
        "colab_type": "code",
        "colab": {
          "base_uri": "https://localhost:8080/",
          "height": 187
        },
        "outputId": "e8c82782-863c-4129-839d-b09f6e3334e4"
      },
      "cell_type": "code",
      "source": [
        "from keras.utils import to_categorical\n",
        "\n",
        "batch_size = 16\n",
        "\n",
        "for epoch in range(10):\n",
        "    for index in range(int(x.shape[0] / batch_size)):\n",
        "        minibatch_x, minibatch_y = next_batch(batch_size=batch_size, features=x, labels=y)\n",
        "        \n",
        "        minibatch_y = to_categorical(minibatch_y)\n",
        "        _, train_loss = sess.run([train_op, loss], feed_dict={\n",
        "                        input_features: minibatch_x,\n",
        "                        input_labels: minibatch_y\n",
        "                    })\n",
        "    print('Epoch {}, loss : {}'.format(epoch, train_loss))\n",
        "        "
      ],
      "execution_count": 77,
      "outputs": [
        {
          "output_type": "stream",
          "text": [
            "Epoch 0, loss : 1.0063238143920898\n",
            "Epoch 1, loss : 1.3564006090164185\n",
            "Epoch 2, loss : 1.3091192245483398\n",
            "Epoch 3, loss : 1.315213680267334\n",
            "Epoch 4, loss : 1.067275881767273\n",
            "Epoch 5, loss : 0.8552875518798828\n",
            "Epoch 6, loss : 0.9168026447296143\n",
            "Epoch 7, loss : 0.9233457446098328\n",
            "Epoch 8, loss : 1.2371584177017212\n",
            "Epoch 9, loss : 0.8119134306907654\n"
          ],
          "name": "stdout"
        }
      ]
    },
    {
      "metadata": {
        "id": "KlhvBDMG9mqo",
        "colab_type": "code",
        "colab": {
          "base_uri": "https://localhost:8080/",
          "height": 34
        },
        "outputId": "692b4e22-e39a-404c-dc95-30a812b5e70a"
      },
      "cell_type": "code",
      "source": [
        "\"\"\"Assignment:\n",
        "1. Convert to Logistic Regression\n",
        "2. Convert to Single Layer Neural Network\"\"\""
      ],
      "execution_count": 78,
      "outputs": [
        {
          "output_type": "execute_result",
          "data": {
            "text/plain": [
              "'Assignment:\\n1. Convert to Logistic Regression\\n2. Convert to Single Layer Neural Network'"
            ]
          },
          "metadata": {
            "tags": []
          },
          "execution_count": 78
        }
      ]
    },
    {
      "metadata": {
        "id": "GRP68y4NC5A5",
        "colab_type": "code",
        "colab": {}
      },
      "cell_type": "code",
      "source": [
        ""
      ],
      "execution_count": 0,
      "outputs": []
    }
  ]
}