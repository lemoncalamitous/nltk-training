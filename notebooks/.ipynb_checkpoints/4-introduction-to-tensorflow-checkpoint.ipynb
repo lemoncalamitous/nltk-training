{
 "cells": [
  {
   "cell_type": "code",
   "execution_count": 0,
   "metadata": {
    "colab": {},
    "colab_type": "code",
    "id": "K468WVf21AWl"
   },
   "outputs": [],
   "source": [
    "import tensorflow as tf"
   ]
  },
  {
   "cell_type": "code",
   "execution_count": 0,
   "metadata": {
    "colab": {},
    "colab_type": "code",
    "id": "iYi6lJ1x1IPL"
   },
   "outputs": [],
   "source": [
    "# Placeholder for input\n",
    "x = tf.placeholder(dtype=tf.float32)"
   ]
  },
  {
   "cell_type": "code",
   "execution_count": 0,
   "metadata": {
    "colab": {},
    "colab_type": "code",
    "id": "pxXkDPrW1YF3"
   },
   "outputs": [],
   "source": [
    "# define the computational graph\n",
    "y = tf.pow((2 * x), 2) + (2 * x) + 1"
   ]
  },
  {
   "cell_type": "code",
   "execution_count": 0,
   "metadata": {
    "colab": {},
    "colab_type": "code",
    "id": "dtjTlLPB1lR1"
   },
   "outputs": [],
   "source": [
    "# Initialize the variables\n",
    "init_op = tf.global_variables_initializer()"
   ]
  },
  {
   "cell_type": "code",
   "execution_count": 0,
   "metadata": {
    "colab": {},
    "colab_type": "code",
    "id": "0jLOAcQm1xJt"
   },
   "outputs": [],
   "source": [
    "# Create a session\n",
    "sess = tf.Session()"
   ]
  },
  {
   "cell_type": "code",
   "execution_count": 0,
   "metadata": {
    "colab": {},
    "colab_type": "code",
    "id": "YpSUvSC61y8C"
   },
   "outputs": [],
   "source": [
    "sess.run(init_op)"
   ]
  },
  {
   "cell_type": "code",
   "execution_count": 0,
   "metadata": {
    "colab": {},
    "colab_type": "code",
    "id": "0HhjNDJm11UT"
   },
   "outputs": [],
   "source": [
    "# Run the computational graph with input 10 to x\n",
    "value = sess.run(y, feed_dict={x: 10})"
   ]
  },
  {
   "cell_type": "code",
   "execution_count": 64,
   "metadata": {
    "colab": {
     "base_uri": "https://localhost:8080/",
     "height": 34
    },
    "colab_type": "code",
    "id": "YS5rvAlM15kt",
    "outputId": "fb0f72cc-7a0a-41f2-e045-53dbafda4927"
   },
   "outputs": [
    {
     "name": "stdout",
     "output_type": "stream",
     "text": [
      "421.0\n"
     ]
    }
   ],
   "source": [
    "print(value)"
   ]
  },
  {
   "cell_type": "code",
   "execution_count": 0,
   "metadata": {
    "colab": {},
    "colab_type": "code",
    "id": "-4w9o__N26-6"
   },
   "outputs": [],
   "source": [
    "# Create random variable\n",
    "weights = tf.Variable(tf.random_normal(shape=[10]))"
   ]
  },
  {
   "cell_type": "code",
   "execution_count": 0,
   "metadata": {
    "colab": {},
    "colab_type": "code",
    "id": "L6ojbtvE3T7I"
   },
   "outputs": [],
   "source": [
    "sess.run(tf.global_variables_initializer())"
   ]
  },
  {
   "cell_type": "code",
   "execution_count": 67,
   "metadata": {
    "colab": {
     "base_uri": "https://localhost:8080/",
     "height": 68
    },
    "colab_type": "code",
    "id": "RtACws0l3Cl3",
    "outputId": "5d5b7f0a-f572-47cc-de76-24d9eb6da427"
   },
   "outputs": [
    {
     "data": {
      "text/plain": [
       "array([ 0.6184237 ,  1.0100913 ,  0.5097682 ,  0.58428437,  0.5947659 ,\n",
       "        0.00651198,  0.01519237, -0.10736147,  0.16066332,  0.28417793],\n",
       "      dtype=float32)"
      ]
     },
     "execution_count": 67,
     "metadata": {
      "tags": []
     },
     "output_type": "execute_result"
    }
   ],
   "source": [
    "sess.run(weights)"
   ]
  },
  {
   "cell_type": "code",
   "execution_count": 0,
   "metadata": {
    "colab": {},
    "colab_type": "code",
    "id": "8RqIle823SLy"
   },
   "outputs": [],
   "source": [
    "from sklearn.datasets import load_iris\n",
    "import numpy as np"
   ]
  },
  {
   "cell_type": "code",
   "execution_count": 69,
   "metadata": {
    "colab": {
     "base_uri": "https://localhost:8080/",
     "height": 187
    },
    "colab_type": "code",
    "id": "soVpB5MD4Uwa",
    "outputId": "f0277ce5-8b5b-4bfe-810a-15df85060f7c"
   },
   "outputs": [
    {
     "data": {
      "text/plain": [
       "(array([[5.1, 3.5, 1.4, 0.2],\n",
       "        [4.9, 3. , 1.4, 0.2],\n",
       "        [4.7, 3.2, 1.3, 0.2],\n",
       "        [4.6, 3.1, 1.5, 0.2],\n",
       "        [5. , 3.6, 1.4, 0.2],\n",
       "        [5.4, 3.9, 1.7, 0.4],\n",
       "        [4.6, 3.4, 1.4, 0.3],\n",
       "        [5. , 3.4, 1.5, 0.2],\n",
       "        [4.4, 2.9, 1.4, 0.2],\n",
       "        [4.9, 3.1, 1.5, 0.1]]), array([0, 0, 0, 0, 0, 0, 0, 0, 0, 0]))"
      ]
     },
     "execution_count": 69,
     "metadata": {
      "tags": []
     },
     "output_type": "execute_result"
    }
   ],
   "source": [
    "x = load_iris().data\n",
    "y = load_iris().target\n",
    "\n",
    "x[:10], y[:10]"
   ]
  },
  {
   "cell_type": "code",
   "execution_count": 70,
   "metadata": {
    "colab": {
     "base_uri": "https://localhost:8080/",
     "height": 34
    },
    "colab_type": "code",
    "id": "lHo1l_PW4j4f",
    "outputId": "dfa3979e-1c0d-4cf5-8e3f-c906473f3f59"
   },
   "outputs": [
    {
     "data": {
      "text/plain": [
       "array([0, 1, 2])"
      ]
     },
     "execution_count": 70,
     "metadata": {
      "tags": []
     },
     "output_type": "execute_result"
    }
   ],
   "source": [
    "np.unique(y)"
   ]
  },
  {
   "cell_type": "code",
   "execution_count": 0,
   "metadata": {
    "colab": {},
    "colab_type": "code",
    "id": "avZXv0Kp4vVy"
   },
   "outputs": [],
   "source": [
    "# [batch_size, 4]\n",
    "input_features = tf.placeholder(dtype=tf.float32, shape=[None, x.shape[1]])\n",
    "\n",
    "# [batch_size, 3]\n",
    "input_labels = tf.placeholder(dtype=tf.float32, shape=[None, 3])\n",
    "\n",
    "# [4, 3]\n",
    "weights = tf.Variable(tf.random_normal(shape=[x.shape[1], 3]))\n",
    "\n",
    "# [3]\n",
    "biases = tf.Variable(tf.random_normal(shape=[3]))\n",
    "\n",
    "# [batch_size] x [4, 3] = [batch_size, 3]\n",
    "# [batch_size, 3] + 3 = [batch_size, 3]\n",
    "linear_model = tf.add(tf.matmul(input_features, weights), biases)\n",
    "\n",
    "# average (w * x + b - y)**2\n",
    "loss = tf.reduce_mean(tf.square(linear_model - input_labels))\n",
    "\n",
    "train_op = tf.train.GradientDescentOptimizer(learning_rate=0.001).minimize(loss)"
   ]
  },
  {
   "cell_type": "code",
   "execution_count": 0,
   "metadata": {
    "colab": {},
    "colab_type": "code",
    "id": "VW-MB-Ww5TGB"
   },
   "outputs": [],
   "source": [
    "sess = tf.Session()"
   ]
  },
  {
   "cell_type": "code",
   "execution_count": 0,
   "metadata": {
    "colab": {},
    "colab_type": "code",
    "id": "1z2aOHOT8WsU"
   },
   "outputs": [],
   "source": [
    "sess.run(tf.global_variables_initializer())"
   ]
  },
  {
   "cell_type": "code",
   "execution_count": 0,
   "metadata": {
    "colab": {},
    "colab_type": "code",
    "id": "NrNkUmBu8dRc"
   },
   "outputs": [],
   "source": [
    "def next_batch(batch_size, features, labels):\n",
    "    indices = np.arange(start=0, stop=features.shape[0])\n",
    "    np.random.shuffle(indices)\n",
    "    indices = indices[:batch_size]\n",
    "    \n",
    "    return features[indices], labels[indices]"
   ]
  },
  {
   "cell_type": "code",
   "execution_count": 77,
   "metadata": {
    "colab": {
     "base_uri": "https://localhost:8080/",
     "height": 187
    },
    "colab_type": "code",
    "id": "iAxJwLFN83s0",
    "outputId": "e8c82782-863c-4129-839d-b09f6e3334e4"
   },
   "outputs": [
    {
     "name": "stdout",
     "output_type": "stream",
     "text": [
      "Epoch 0, loss : 1.0063238143920898\n",
      "Epoch 1, loss : 1.3564006090164185\n",
      "Epoch 2, loss : 1.3091192245483398\n",
      "Epoch 3, loss : 1.315213680267334\n",
      "Epoch 4, loss : 1.067275881767273\n",
      "Epoch 5, loss : 0.8552875518798828\n",
      "Epoch 6, loss : 0.9168026447296143\n",
      "Epoch 7, loss : 0.9233457446098328\n",
      "Epoch 8, loss : 1.2371584177017212\n",
      "Epoch 9, loss : 0.8119134306907654\n"
     ]
    }
   ],
   "source": [
    "from keras.utils import to_categorical\n",
    "\n",
    "batch_size = 16\n",
    "\n",
    "for epoch in range(10):\n",
    "    for index in range(int(x.shape[0] / batch_size)):\n",
    "        minibatch_x, minibatch_y = next_batch(batch_size=batch_size, features=x, labels=y)\n",
    "        \n",
    "        minibatch_y = to_categorical(minibatch_y)\n",
    "        _, train_loss = sess.run([train_op, loss], feed_dict={\n",
    "                        input_features: minibatch_x,\n",
    "                        input_labels: minibatch_y\n",
    "                    })\n",
    "    print('Epoch {}, loss : {}'.format(epoch, train_loss))\n",
    "        "
   ]
  },
  {
   "cell_type": "code",
   "execution_count": 78,
   "metadata": {
    "colab": {
     "base_uri": "https://localhost:8080/",
     "height": 34
    },
    "colab_type": "code",
    "id": "KlhvBDMG9mqo",
    "outputId": "692b4e22-e39a-404c-dc95-30a812b5e70a"
   },
   "outputs": [
    {
     "data": {
      "text/plain": [
       "'Assignment:\\n1. Convert to Logistic Regression\\n2. Convert to Single Layer Neural Network'"
      ]
     },
     "execution_count": 78,
     "metadata": {
      "tags": []
     },
     "output_type": "execute_result"
    }
   ],
   "source": [
    "\"\"\"Assignment:\n",
    "1. Convert to Logistic Regression\n",
    "2. Convert to Single Layer Neural Network\"\"\""
   ]
  },
  {
   "cell_type": "code",
   "execution_count": 0,
   "metadata": {
    "colab": {},
    "colab_type": "code",
    "id": "GRP68y4NC5A5"
   },
   "outputs": [],
   "source": []
  }
 ],
 "metadata": {
  "colab": {
   "collapsed_sections": [],
   "name": "4-introduction-to-tensorflow.ipynb",
   "provenance": [],
   "version": "0.3.2"
  },
  "kernelspec": {
   "display_name": "Python 3",
   "language": "python",
   "name": "python3"
  },
  "language_info": {
   "codemirror_mode": {
    "name": "ipython",
    "version": 3
   },
   "file_extension": ".py",
   "mimetype": "text/x-python",
   "name": "python",
   "nbconvert_exporter": "python",
   "pygments_lexer": "ipython3",
   "version": "3.6.5"
  }
 },
 "nbformat": 4,
 "nbformat_minor": 1
}
